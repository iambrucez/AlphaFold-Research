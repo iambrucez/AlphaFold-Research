{
 "cells": [
  {
   "cell_type": "code",
   "execution_count": null,
   "metadata": {},
   "outputs": [],
   "source": []
  },
  {
   "cell_type": "code",
   "execution_count": null,
   "metadata": {},
   "outputs": [],
   "source": [
    "net = GCN(g=g, \n",
    "                m_fea_dim=m_fea_dim, \n",
    "                num_hidden=128, \n",
    "                num_labels=num_labels, \n",
    "                num_layers=args.num_layers,\n",
    "                dropout=args.dropout,\n",
    "                device=device)\n",
    "\n",
    "# Test model\n",
    "net.load_state_dict(torch.load('checkpoint.pt'))\n",
    "net.eval()\n",
    "with torch.no_grad():\n",
    "    output_labels = labels[test_idx].cpu().numpy()\n",
    "    output_predictions = net.inference(node_count_by_type, features_list)\n",
    "    output_predictions = output_predictions.view(-1)[test_idx].cpu().numpy()\n",
    "    km_r2 = r2_score(output_labels, output_predictions)\n",
    "    print('R2 score for km: {}'.format(km_r2))"
   ]
  }
 ],
 "metadata": {
  "language_info": {
   "name": "python"
  },
  "orig_nbformat": 4
 },
 "nbformat": 4,
 "nbformat_minor": 2
}
