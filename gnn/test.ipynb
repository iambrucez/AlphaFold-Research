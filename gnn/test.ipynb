{
 "cells": [
  {
   "cell_type": "code",
   "execution_count": 1,
   "metadata": {},
   "outputs": [],
   "source": [
    "import sys\n",
    "import time\n",
    "import torch\n",
    "import torch.nn.functional as F\n",
    "from utils.utils import load_data, mat2tensor, regression_loss\n",
    "from model.gcn import GCN\n",
    "from model.gat import GAT\n",
    "import numpy as np\n",
    "import dgl"
   ]
  },
  {
   "cell_type": "code",
   "execution_count": 2,
   "metadata": {},
   "outputs": [],
   "source": [
    "features_list, adjM, labels, train_val_test_idx, dl = load_data('iYO844')\n",
    "features_list = [mat2tensor(features)\n",
    "                    for features in features_list]\n",
    "m_dim = features_list[1].shape[1]\n",
    "\n",
    "# Set train, val, test index\n",
    "labels = torch.FloatTensor(labels)\n",
    "train_idx = train_val_test_idx['train_idx']\n",
    "train_idx = np.sort(train_idx)\n",
    "val_idx = train_val_test_idx['val_idx']\n",
    "val_idx = np.sort(val_idx)\n",
    "test_idx = train_val_test_idx['test_idx']\n",
    "test_idx = np.sort(test_idx)\n",
    "\n",
    "# Build graph\n",
    "g = dgl.from_scipy(adjM+(adjM.T))\n",
    "g = dgl.remove_self_loop(g)\n",
    "g = dgl.add_self_loop(g)\n",
    "\n",
    "# Set model\n",
    "num_labels = dl.labels_train['num_labels']"
   ]
  },
  {
   "cell_type": "code",
   "execution_count": 3,
   "metadata": {},
   "outputs": [],
   "source": [
    "net = GCN(g, m_dim, 64, num_labels,\n",
    "                  2, F.elu, 0.5)"
   ]
  },
  {
   "cell_type": "code",
   "execution_count": 5,
   "metadata": {},
   "outputs": [
    {
     "name": "stdout",
     "output_type": "stream",
     "text": [
      "{'km_mse': -8.6028399904935, 'kcat_mse': 0.0}\n"
     ]
    }
   ],
   "source": [
    "# Test model\n",
    "net.load_state_dict(torch.load(\n",
    "    'checkpoint/checkpoint_{}_{}.pth'.format('iYO844', 'gcn')))\n",
    "net.eval()\n",
    "test_logits = []\n",
    "with torch.no_grad():\n",
    "    logits = net(features_list)\n",
    "    test_logits = logits[test_idx]\n",
    "    # dl.gen_file_for_evaluate(test_idx=test_idx,label=pred)\n",
    "    pred = test_logits.cpu().numpy()\n",
    "    print(dl.evaluate(pred))"
   ]
  },
  {
   "cell_type": "code",
   "execution_count": null,
   "metadata": {},
   "outputs": [],
   "source": []
  }
 ],
 "metadata": {
  "interpreter": {
   "hash": "182549613727cf12b46fcd4ad177be91d67bb597fee4891cf7931e6e0875b8f0"
  },
  "kernelspec": {
   "display_name": "Python 3.8.13 ('gnn')",
   "language": "python",
   "name": "python3"
  },
  "language_info": {
   "codemirror_mode": {
    "name": "ipython",
    "version": 3
   },
   "file_extension": ".py",
   "mimetype": "text/x-python",
   "name": "python",
   "nbconvert_exporter": "python",
   "pygments_lexer": "ipython3",
   "version": "3.8.13"
  },
  "orig_nbformat": 4
 },
 "nbformat": 4,
 "nbformat_minor": 2
}
