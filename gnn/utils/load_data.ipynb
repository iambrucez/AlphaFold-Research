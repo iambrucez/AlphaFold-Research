{
 "cells": [
  {
   "cell_type": "code",
   "execution_count": 1,
   "metadata": {},
   "outputs": [],
   "source": [
    "import numpy as np\n",
    "import sys\n",
    "import scipy.sparse as sp\n",
    "import torch\n",
    "import torch.nn.functional as F\n",
    "from data_loader import data_loader"
   ]
  },
  {
   "cell_type": "code",
   "execution_count": 2,
   "metadata": {},
   "outputs": [],
   "source": [
    "prefix='iYO844'\n",
    "\n",
    "dl = data_loader('../data/{}'.format(prefix))"
   ]
  },
  {
   "cell_type": "code",
   "execution_count": 3,
   "metadata": {},
   "outputs": [
    {
     "data": {
      "text/plain": [
       "array([ 3.40119738,  2.73631367, -4.82831374, -2.99573227, -0.14502577,\n",
       "        0.60434583,  2.16332303, -0.26136476, -2.83021784, -1.1535649 ,\n",
       "       -1.42711636,  3.97029191,  1.23837423, -3.72970145, -1.58032826,\n",
       "        1.90210753,  2.41591378, -0.38566248])"
      ]
     },
     "execution_count": 3,
     "metadata": {},
     "output_type": "execute_result"
    }
   ],
   "source": [
    "dl.labels_test['data'][dl.labels_test['mask']]"
   ]
  },
  {
   "cell_type": "code",
   "execution_count": 4,
   "metadata": {},
   "outputs": [
    {
     "data": {
      "text/plain": [
       "array([ 0.        ,  0.        ,  0.        ,  0.        ,  0.        ,\n",
       "        0.        ,  0.        ,  0.        ,  0.        ,  0.        ,\n",
       "        0.        ,  0.        ,  0.        ,  0.        ,  0.        ,\n",
       "        0.        ,  0.        ,  0.        ,  0.        ,  0.        ,\n",
       "        0.        ,  0.        ,  0.        ,  0.        ,  0.        ,\n",
       "        0.        ,  0.        ,  0.        ,  0.        ,  0.        ,\n",
       "        0.        ,  3.40119738,  0.        ,  0.        ,  0.        ,\n",
       "        0.        ,  0.        ,  0.        ,  2.73631367,  0.        ,\n",
       "        0.        ,  0.        ,  0.        ,  0.        ,  0.        ,\n",
       "        0.        ,  0.        ,  0.        ,  0.        ,  0.        ,\n",
       "        0.        ,  0.        ,  0.        ,  0.        ,  0.        ,\n",
       "        0.        ,  0.        ,  0.        ,  0.        ,  0.        ,\n",
       "        0.        ,  0.        ,  0.        ,  0.        ,  0.        ,\n",
       "        0.        ,  0.        ,  0.        ,  0.        ,  0.        ,\n",
       "        0.        ,  0.        ,  0.        ,  0.        ,  0.        ,\n",
       "        0.        ,  0.        ,  0.        ,  0.        , -4.82831374,\n",
       "        0.        ,  0.        ,  0.        ,  0.        ,  0.        ,\n",
       "        0.        ,  0.        ,  0.        ,  0.        ,  0.        ,\n",
       "        0.        ,  0.        ,  0.        ,  0.        ,  0.        ,\n",
       "        0.        ,  0.        ,  0.        ,  0.        ,  0.        ,\n",
       "        0.        ,  0.        ,  0.        ,  0.        ,  0.        ,\n",
       "        0.        ,  0.        ,  0.        ,  0.        ,  0.        ,\n",
       "        0.        ,  0.        ,  0.        ,  0.        ,  0.        ,\n",
       "        0.        ,  0.        ,  0.        , -2.99573227, -0.14502577,\n",
       "        0.        ,  0.        ,  0.        ,  0.        ,  0.        ,\n",
       "        0.        ,  0.        ,  0.        ,  0.        ,  0.        ,\n",
       "        0.        ,  0.        ,  0.        ,  0.        ,  0.        ,\n",
       "        0.        ,  0.        ,  0.        ,  0.        ,  0.        ,\n",
       "        0.        ,  0.        ,  0.        ,  0.        ,  0.        ,\n",
       "        0.        ,  0.        ,  0.        ,  0.        ,  0.        ,\n",
       "        0.60434583,  0.        ,  0.        ,  0.        ,  0.        ,\n",
       "        0.        ,  0.        ,  0.        ,  0.        ,  0.        ,\n",
       "        0.        ,  0.        ,  0.        ,  0.        ,  0.        ,\n",
       "        0.        ,  0.        ,  0.        ,  0.        ,  0.        ,\n",
       "        0.        ,  2.16332303,  0.        ,  0.        ,  0.        ,\n",
       "        0.        ,  0.        ,  0.        ,  0.        ,  0.        ,\n",
       "        0.        ,  0.        ,  0.        ,  0.        ,  0.        ,\n",
       "        0.        ,  0.        ,  0.        ,  0.        , -0.26136476,\n",
       "        0.        ,  0.        ,  0.        , -2.83021784,  0.        ,\n",
       "        0.        ,  0.        ,  0.        ,  0.        ,  0.        ,\n",
       "        0.        ,  0.        ,  0.        ,  0.        ,  0.        ,\n",
       "        0.        ,  0.        ,  0.        ,  0.        ,  0.        ,\n",
       "        0.        ,  0.        ,  0.        ,  0.        ,  0.        ,\n",
       "       -1.1535649 ,  0.        ,  0.        ,  0.        ,  0.        ,\n",
       "        0.        ,  0.        ,  0.        ,  0.        ,  0.        ,\n",
       "        0.        ,  0.        ,  0.        ,  0.        ,  0.        ,\n",
       "        0.        ,  0.        ,  0.        ,  0.        ,  0.        ,\n",
       "        0.        ,  0.        ,  0.        ,  0.        ,  0.        ,\n",
       "        0.        ,  0.        ,  0.        ,  0.        ,  0.        ,\n",
       "        0.        ,  0.        ,  0.        ,  0.        ,  0.        ,\n",
       "        0.        ,  0.        ,  0.        ,  0.        ,  0.        ,\n",
       "        0.        ,  0.        ,  0.        ,  0.        ,  0.        ,\n",
       "        0.        ,  0.        ,  0.        ,  0.        ,  0.        ,\n",
       "        0.        ,  0.        ,  0.        ,  0.        ,  0.        ,\n",
       "        0.        ,  0.        ,  0.        ,  0.        ,  0.        ,\n",
       "        0.        ,  0.        ,  0.        ,  0.        ,  0.        ,\n",
       "        0.        ,  0.        ,  0.        ,  0.        ,  0.        ,\n",
       "        0.        ,  0.        ,  0.        , -1.42711636,  0.        ,\n",
       "        0.        ,  0.        ,  0.        ,  0.        ,  0.        ,\n",
       "        0.        ,  3.97029191,  0.        ,  0.        ,  0.        ,\n",
       "        0.        ,  0.        ,  0.        ,  0.        ,  0.        ,\n",
       "        0.        ,  0.        ,  0.        ,  0.        ,  0.        ,\n",
       "        0.        ,  0.        ,  0.        ,  0.        ,  0.        ,\n",
       "        0.        ,  0.        ,  0.        ,  0.        ,  0.        ,\n",
       "        0.        ,  0.        ,  0.        ,  0.        ,  1.23837423,\n",
       "       -3.72970145, -1.58032826,  0.        ,  0.        ,  0.        ,\n",
       "        0.        ,  0.        ,  0.        ,  0.        ,  0.        ,\n",
       "        0.        ,  0.        ,  0.        ,  0.        ,  0.        ,\n",
       "        0.        ,  0.        ,  0.        ,  0.        ,  0.        ,\n",
       "        0.        ,  0.        ,  0.        ,  0.        ,  0.        ,\n",
       "        0.        ,  0.        ,  0.        ,  0.        ,  0.        ,\n",
       "        0.        ,  0.        ,  0.        ,  0.        ,  0.        ,\n",
       "        0.        ,  0.        ,  0.        ,  0.        ,  0.        ,\n",
       "        0.        ,  1.90210753,  0.        ,  0.        ,  0.        ,\n",
       "        0.        ,  0.        ,  0.        ,  0.        ,  2.41591378,\n",
       "        0.        ,  0.        ,  0.        ,  0.        ,  0.        ,\n",
       "        0.        ,  0.        , -0.38566248,  0.        ,  0.        ,\n",
       "        0.        ,  0.        ,  0.        ,  0.        ,  0.        ,\n",
       "        0.        ,  0.        ,  0.        ,  0.        ,  0.        ,\n",
       "        0.        ,  0.        ,  0.        ,  0.        ,  0.        ,\n",
       "        0.        ,  0.        ,  0.        ,  0.        ,  0.        ,\n",
       "        0.        ,  0.        ,  0.        ,  0.        ,  0.        ,\n",
       "        0.        ,  0.        ,  0.        ,  0.        ,  0.        ,\n",
       "        0.        ,  0.        ,  0.        ,  0.        ,  0.        ,\n",
       "        0.        ,  0.        ,  0.        ,  0.        ,  0.        ,\n",
       "        0.        ,  0.        ,  0.        ,  0.        ,  0.        ,\n",
       "        0.        ,  0.        ,  0.        ,  0.        ,  0.        ,\n",
       "        0.        ,  0.        ,  0.        ,  0.        ,  0.        ,\n",
       "        0.        ,  0.        ,  0.        ,  0.        ,  0.        ,\n",
       "        0.        ,  0.        ,  0.        ,  0.        ,  0.        ,\n",
       "        0.        ,  0.        ,  0.        ,  0.        ,  0.        ,\n",
       "        0.        ,  0.        ,  0.        ,  0.        ,  0.        ,\n",
       "        0.        ,  0.        ,  0.        ,  0.        ,  0.        ,\n",
       "        0.        ,  0.        ,  0.        ,  0.        ,  0.        ,\n",
       "        0.        ,  0.        ,  0.        ,  0.        ,  0.        ,\n",
       "        0.        ,  0.        ,  0.        ,  0.        ,  0.        ,\n",
       "        0.        ,  0.        ,  0.        ,  0.        ,  0.        ,\n",
       "        0.        ,  0.        ,  0.        ,  0.        ,  0.        ,\n",
       "        0.        ,  0.        ,  0.        ,  0.        ,  0.        ,\n",
       "        0.        ,  0.        ,  0.        ,  0.        ,  0.        ,\n",
       "        0.        ,  0.        ,  0.        ,  0.        ,  0.        ,\n",
       "        0.        ,  0.        ,  0.        ,  0.        ,  0.        ,\n",
       "        0.        ,  0.        ,  0.        ,  0.        ,  0.        ,\n",
       "        0.        ,  0.        ,  0.        ,  0.        ,  0.        ,\n",
       "        0.        ,  0.        ,  0.        ,  0.        ,  0.        ,\n",
       "        0.        ,  0.        ,  0.        ,  0.        ,  0.        ,\n",
       "        0.        ,  0.        ,  0.        ,  0.        ,  0.        ,\n",
       "        0.        ,  0.        ,  0.        ,  0.        ,  0.        ,\n",
       "        0.        ,  0.        ,  0.        ,  0.        ,  0.        ,\n",
       "        0.        ,  0.        ,  0.        ,  0.        ,  0.        ,\n",
       "        0.        ,  0.        ,  0.        ,  0.        ,  0.        ,\n",
       "        0.        ,  0.        ,  0.        ,  0.        ,  0.        ,\n",
       "        0.        ,  0.        ,  0.        ,  0.        ,  0.        ,\n",
       "        0.        ,  0.        ,  0.        ,  0.        ,  0.        ,\n",
       "        0.        ,  0.        ,  0.        ,  0.        ,  0.        ,\n",
       "        0.        ,  0.        ,  0.        ,  0.        ,  0.        ,\n",
       "        0.        ,  0.        ,  0.        ,  0.        ,  0.        ,\n",
       "        0.        ,  0.        ,  0.        ,  0.        ,  0.        ,\n",
       "        0.        ,  0.        ,  0.        ,  0.        ,  0.        ,\n",
       "        0.        ,  0.        ,  0.        ,  0.        ,  0.        ,\n",
       "        0.        ,  0.        ,  0.        ,  0.        ,  0.        ,\n",
       "        0.        ,  0.        ,  0.        ,  0.        ,  0.        ,\n",
       "        0.        ,  0.        ,  0.        ,  0.        ,  0.        ,\n",
       "        0.        ,  0.        ,  0.        ,  0.        ,  0.        ,\n",
       "        0.        ,  0.        ,  0.        ,  0.        ,  0.        ,\n",
       "        0.        ,  0.        ,  0.        ,  0.        ,  0.        ,\n",
       "        0.        ,  0.        ,  0.        ,  0.        ,  0.        ,\n",
       "        0.        ,  0.        ,  0.        ,  0.        ,  0.        ,\n",
       "        0.        ,  0.        ,  0.        ,  0.        ,  0.        ,\n",
       "        0.        ,  0.        ,  0.        ,  0.        ,  0.        ,\n",
       "        0.        ,  0.        ,  0.        ,  0.        ,  0.        ,\n",
       "        0.        ,  0.        ,  0.        ,  0.        ,  0.        ,\n",
       "        0.        ,  0.        ,  0.        ,  0.        ,  0.        ,\n",
       "        0.        ,  0.        ,  0.        ,  0.        ,  0.        ,\n",
       "        0.        ,  0.        ,  0.        ,  0.        ,  0.        ,\n",
       "        0.        ,  0.        ,  0.        ,  0.        ,  0.        ,\n",
       "        0.        ,  0.        ,  0.        ,  0.        ,  0.        ,\n",
       "        0.        ,  0.        ,  0.        ,  0.        ,  0.        ,\n",
       "        0.        ,  0.        ,  0.        ,  0.        ,  0.        ,\n",
       "        0.        ,  0.        ,  0.        ,  0.        ,  0.        ,\n",
       "        0.        ,  0.        ,  0.        ,  0.        ,  0.        ,\n",
       "        0.        ,  0.        ,  0.        ,  0.        ,  0.        ,\n",
       "        0.        ,  0.        ,  0.        ,  0.        ,  0.        ,\n",
       "        0.        ,  0.        ,  0.        ,  0.        ,  0.        ,\n",
       "        0.        ,  0.        ,  0.        ,  0.        ,  0.        ,\n",
       "        0.        ,  0.        ,  0.        ,  0.        ,  0.        ,\n",
       "        0.        ,  0.        ,  0.        ,  0.        ,  0.        ,\n",
       "        0.        ,  0.        ,  0.        ,  0.        ,  0.        ,\n",
       "        0.        ,  0.        ,  0.        ,  0.        ,  0.        ,\n",
       "        0.        ,  0.        ,  0.        ,  0.        ,  0.        ,\n",
       "        0.        ,  0.        ,  0.        ,  0.        ,  0.        ,\n",
       "        0.        ,  0.        ,  0.        ,  0.        ,  0.        ,\n",
       "        0.        ,  0.        ,  0.        ,  0.        ,  0.        ,\n",
       "        0.        ,  0.        ,  0.        ,  0.        ,  0.        ,\n",
       "        0.        ,  0.        ,  0.        ,  0.        ,  0.        ,\n",
       "        0.        ,  0.        ,  0.        ,  0.        ,  0.        ,\n",
       "        0.        ,  0.        ,  0.        ,  0.        ,  0.        ,\n",
       "        0.        ,  0.        ,  0.        ,  0.        ,  0.        ,\n",
       "        0.        ,  0.        ,  0.        ,  0.        ,  0.        ,\n",
       "        0.        ,  0.        ,  0.        ,  0.        ,  0.        ,\n",
       "        0.        ,  0.        ,  0.        ,  0.        ,  0.        ,\n",
       "        0.        ,  0.        ,  0.        ,  0.        ,  0.        ,\n",
       "        0.        ,  0.        ,  0.        ,  0.        ,  0.        ,\n",
       "        0.        ,  0.        ,  0.        ,  0.        ,  0.        ,\n",
       "        0.        ,  0.        ,  0.        ,  0.        ,  0.        ,\n",
       "        0.        ,  0.        ,  0.        ,  0.        ,  0.        ,\n",
       "        0.        ,  0.        ,  0.        ,  0.        ,  0.        ,\n",
       "        0.        ,  0.        ,  0.        ,  0.        ,  0.        ,\n",
       "        0.        ,  0.        ,  0.        ,  0.        ,  0.        ,\n",
       "        0.        ,  0.        ,  0.        ,  0.        ,  0.        ,\n",
       "        0.        ,  0.        ,  0.        ,  0.        ,  0.        ,\n",
       "        0.        ,  0.        ,  0.        ,  0.        ,  0.        ,\n",
       "        0.        ,  0.        ,  0.        ,  0.        ,  0.        ,\n",
       "        0.        ,  0.        ,  0.        ,  0.        ,  0.        ,\n",
       "        0.        ,  0.        ,  0.        ,  0.        ,  0.        ,\n",
       "        0.        ,  0.        ,  0.        ,  0.        ,  0.        ,\n",
       "        0.        ,  0.        ,  0.        ,  0.        ,  0.        ,\n",
       "        0.        ,  0.        ,  0.        ,  0.        ,  0.        ,\n",
       "        0.        ,  0.        ,  0.        ,  0.        ,  0.        ,\n",
       "        0.        ,  0.        ,  0.        ,  0.        ,  0.        ,\n",
       "        0.        ,  0.        ,  0.        ,  0.        ,  0.        ,\n",
       "        0.        ,  0.        ,  0.        ,  0.        ,  0.        ,\n",
       "        0.        ,  0.        ,  0.        ,  0.        ,  0.        ,\n",
       "        0.        ,  0.        ,  0.        ,  0.        ,  0.        ,\n",
       "        0.        ,  0.        ,  0.        ,  0.        ,  0.        ,\n",
       "        0.        ,  0.        ,  0.        ,  0.        ,  0.        ,\n",
       "        0.        ,  0.        ,  0.        ,  0.        ,  0.        ,\n",
       "        0.        ,  0.        ,  0.        ,  0.        ,  0.        ,\n",
       "        0.        ,  0.        ,  0.        ,  0.        ,  0.        ,\n",
       "        0.        ,  0.        ,  0.        ,  0.        ,  0.        ,\n",
       "        0.        ,  0.        ,  0.        ,  0.        ,  0.        ,\n",
       "        0.        ,  0.        ,  0.        ,  0.        ,  0.        ,\n",
       "        0.        ,  0.        ,  0.        ,  0.        ,  0.        ,\n",
       "        0.        ,  0.        ,  0.        ,  0.        ,  0.        ,\n",
       "        0.        ,  0.        ,  0.        ,  0.        ,  0.        ,\n",
       "        0.        ,  0.        ,  0.        ,  0.        ,  0.        ,\n",
       "        0.        ,  0.        ,  0.        ,  0.        ,  0.        ,\n",
       "        0.        ,  0.        ,  0.        ,  0.        ,  0.        ,\n",
       "        0.        ,  0.        ,  0.        ,  0.        ,  0.        ,\n",
       "        0.        ,  0.        ,  0.        ,  0.        ,  0.        ])"
      ]
     },
     "execution_count": 4,
     "metadata": {},
     "output_type": "execute_result"
    }
   ],
   "source": [
    "dl.labels_test['data']"
   ]
  },
  {
   "cell_type": "code",
   "execution_count": 6,
   "metadata": {},
   "outputs": [
    {
     "data": {
      "text/plain": [
       "dict_keys(['logits', 'single'])"
      ]
     },
     "execution_count": 6,
     "metadata": {},
     "output_type": "execute_result"
    }
   ],
   "source": [
    "dl.nodes['attr'][0].keys()"
   ]
  },
  {
   "cell_type": "code",
   "execution_count": 12,
   "metadata": {},
   "outputs": [
    {
     "name": "stdout",
     "output_type": "stream",
     "text": [
      "(384, 1600, 1600, 2)\n",
      "(384,)\n",
      "(616, 129)\n"
     ]
    }
   ],
   "source": [
    "features = []\n",
    "for i in range(len(dl.nodes['count'])):\n",
    "    th = dl.nodes['attr'][i]\n",
    "    if th is None:\n",
    "        features.append(sp.eye(dl.nodes['count'][i]))\n",
    "    else:\n",
    "        features.append(th)\n",
    "        \n",
    "print(features[0]['logits'].shape)\n",
    "print(features[0]['single'].shape)\n",
    "print(features[1].shape)"
   ]
  },
  {
   "cell_type": "code",
   "execution_count": 23,
   "metadata": {},
   "outputs": [],
   "source": [
    "adjM = sum(dl.links['data'].values())\n",
    "# labels = np.zeros(\n",
    "#     (dl.nodes['count'][0], dl.labels_train['num_labels']), dtype=float)\n",
    "\n",
    "labels = np.zeros(\n",
    "    (dl.nodes['count'][0],), dtype=float)\n",
    "\n",
    "val_ratio = 0.2\n",
    "train_idx = np.nonzero(dl.labels_train['mask'])[0]\n",
    "np.random.shuffle(train_idx)\n",
    "split = int(train_idx.shape[0]*val_ratio)\n",
    "val_idx = train_idx[:split]\n",
    "train_idx = train_idx[split:]\n",
    "train_idx = np.sort(train_idx)\n",
    "val_idx = np.sort(val_idx)\n",
    "test_idx = np.nonzero(dl.labels_test['mask'])[0]"
   ]
  },
  {
   "cell_type": "code",
   "execution_count": 24,
   "metadata": {},
   "outputs": [
    {
     "data": {
      "text/plain": [
       "(34,)"
      ]
     },
     "execution_count": 24,
     "metadata": {},
     "output_type": "execute_result"
    }
   ],
   "source": [
    "labels[train_idx].shape"
   ]
  },
  {
   "cell_type": "code",
   "execution_count": 25,
   "metadata": {},
   "outputs": [
    {
     "data": {
      "text/plain": [
       "(34,)"
      ]
     },
     "execution_count": 25,
     "metadata": {},
     "output_type": "execute_result"
    }
   ],
   "source": [
    "dl.labels_train['data'][train_idx].shape"
   ]
  },
  {
   "cell_type": "code",
   "execution_count": 26,
   "metadata": {},
   "outputs": [],
   "source": [
    "labels[train_idx] = dl.labels_train['data'][train_idx]\n",
    "labels[val_idx] = dl.labels_train['data'][val_idx]\n",
    "labels[test_idx] = dl.labels_test['data'][test_idx]"
   ]
  },
  {
   "cell_type": "code",
   "execution_count": null,
   "metadata": {},
   "outputs": [],
   "source": []
  },
  {
   "cell_type": "code",
   "execution_count": 13,
   "metadata": {},
   "outputs": [],
   "source": [
    "adjM = sum(dl.links['data'].values())\n",
    "labels = np.zeros(\n",
    "(dl.nodes['count'][0], dl.labels_train['num_labels']), dtype=float)\n",
    "val_ratio = 0.2\n",
    "train_idx = np.nonzero(dl.labels_train['mask'])[0]\n",
    "np.random.shuffle(train_idx)\n",
    "split = int(train_idx.shape[0]*val_ratio)\n",
    "val_idx = train_idx[:split]\n",
    "train_idx = train_idx[split:]\n",
    "train_idx = np.sort(train_idx)\n",
    "val_idx = np.sort(val_idx)\n",
    "test_idx = np.nonzero(dl.labels_test['mask'])[0]\n",
    "labels[train_idx] = dl.labels_train['data'][train_idx]\n",
    "labels[val_idx] = dl.labels_train['data'][val_idx]\n",
    "# labels[test_idx] = dl.labels_test['data'][test_idx]\n",
    "# if prefix != 'IMDB':\n",
    "#     labels = labels.argmax(axis=1)\n",
    "train_val_test_idx = {}\n",
    "train_val_test_idx['train_idx'] = train_idx\n",
    "train_val_test_idx['val_idx'] = val_idx\n",
    "train_val_test_idx['test_idx'] = test_idx"
   ]
  },
  {
   "cell_type": "code",
   "execution_count": 17,
   "metadata": {},
   "outputs": [
    {
     "data": {
      "text/plain": [
       "(384, 1600, 1600)"
      ]
     },
     "execution_count": 17,
     "metadata": {},
     "output_type": "execute_result"
    }
   ],
   "source": [
    "features[0].shape"
   ]
  },
  {
   "cell_type": "code",
   "execution_count": null,
   "metadata": {},
   "outputs": [],
   "source": []
  },
  {
   "cell_type": "code",
   "execution_count": null,
   "metadata": {},
   "outputs": [],
   "source": []
  },
  {
   "cell_type": "code",
   "execution_count": 19,
   "metadata": {},
   "outputs": [],
   "source": [
    "features_list = features"
   ]
  },
  {
   "cell_type": "code",
   "execution_count": 21,
   "metadata": {},
   "outputs": [],
   "source": [
    "def sp_to_spt(mat):\n",
    "    coo = mat.tocoo()\n",
    "    values = coo.data\n",
    "    indices = np.vstack((coo.row, coo.col))\n",
    "\n",
    "    i = torch.LongTensor(indices)\n",
    "    v = torch.FloatTensor(values)\n",
    "    shape = coo.shape\n",
    "\n",
    "    return torch.sparse.FloatTensor(i, v, torch.Size(shape))\n",
    "\n",
    "def mat2tensor(mat):\n",
    "    if type(mat) is np.ndarray:\n",
    "        return torch.from_numpy(mat).type(torch.FloatTensor)\n",
    "    return sp_to_spt(mat)"
   ]
  },
  {
   "cell_type": "code",
   "execution_count": 26,
   "metadata": {},
   "outputs": [
    {
     "data": {
      "text/plain": [
       "torch.Size([384, 1600, 1600])"
      ]
     },
     "execution_count": 26,
     "metadata": {},
     "output_type": "execute_result"
    }
   ],
   "source": [
    "torch.from_numpy(features_list[0]).type(torch.FloatTensor).shape"
   ]
  },
  {
   "cell_type": "code",
   "execution_count": 27,
   "metadata": {},
   "outputs": [
    {
     "data": {
      "text/plain": [
       "torch.Size([616, 129])"
      ]
     },
     "execution_count": 27,
     "metadata": {},
     "output_type": "execute_result"
    }
   ],
   "source": [
    "torch.from_numpy(features_list[1]).type(torch.FloatTensor).shape"
   ]
  },
  {
   "cell_type": "code",
   "execution_count": 32,
   "metadata": {},
   "outputs": [],
   "source": [
    "import torch\n",
    "import torch.nn as nn"
   ]
  },
  {
   "cell_type": "code",
   "execution_count": 30,
   "metadata": {},
   "outputs": [],
   "source": [
    "features_list = [mat2tensor(features).to('cpu')\n",
    "                     for features in features_list]"
   ]
  },
  {
   "cell_type": "code",
   "execution_count": 33,
   "metadata": {},
   "outputs": [],
   "source": [
    "class Conv2dBlock(nn.Module):\n",
    "    def __init__(self, in_channels, out_channels, **kwargs):\n",
    "        super(Conv2dBlock, self).__init__()\n",
    "        self.conv = nn.Conv2d(in_channels, out_channels, bias=False, **kwargs)\n",
    "        self.batchnorm = nn.BatchNorm2d(out_channels)\n",
    "        self.leakyrelu = nn.LeakyReLU(0.1)\n",
    "\n",
    "    def forward(self, x):\n",
    "        return self.leakyrelu(self.batchnorm(self.conv(x)))"
   ]
  },
  {
   "cell_type": "code",
   "execution_count": 34,
   "metadata": {},
   "outputs": [],
   "source": [
    "# (out_channels, kernel_size, stride, padding)\n",
    "enzyme_conv_archi = [\n",
    "    # input: 1600x1600x1\n",
    "    (1, 4, 4, 0),\n",
    "    # 400x400x1\n",
    "    (1, 4, 4, 0),\n",
    "    # 100x100x1\n",
    "    (1, 4, 4, 0),\n",
    "    # 25x25x1\n",
    "]"
   ]
  },
  {
   "cell_type": "code",
   "execution_count": 96,
   "metadata": {},
   "outputs": [],
   "source": [
    "class GCN(nn.Module):\n",
    "    def __init__(self,\n",
    "                 g,\n",
    "                 m_dim,\n",
    "                 in_dims,\n",
    "                 num_hidden,\n",
    "                 num_classes,\n",
    "                 num_layers,\n",
    "                 activation,\n",
    "                 dropout):\n",
    "        super(GCN, self).__init__()\n",
    "        self.g = g\n",
    "        self.layers = nn.ModuleList()\n",
    "        \n",
    "        # conv2d layers for enzyme nodes\n",
    "        e_layers = []\n",
    "        in_channels = 1\n",
    "        for x in enzyme_conv_archi:\n",
    "            if type(x) == tuple:\n",
    "                e_layers += [\n",
    "                    Conv2dBlock(\n",
    "                        in_channels, x[0], kernel_size=x[1], stride=x[2], padding=x[3],\n",
    "                    )\n",
    "                ]\n",
    "                in_channels = x[0]\n",
    "                \n",
    "        self.e_conv = nn.Sequential(*e_layers)\n",
    "\n",
    "        # fc layers: to make the features of all the nodes become the same dimension  \n",
    "        in_dims = [625, m_dim]\n",
    "              \n",
    "        self.fc_list = nn.ModuleList(\n",
    "            [nn.Linear(in_dim, num_hidden, bias=True) for in_dim in in_dims])\n",
    "        for fc in self.fc_list:\n",
    "            nn.init.xavier_normal_(fc.weight, gain=1.414)\n",
    "\n",
    "        # input layer\n",
    "        self.layers.append(\n",
    "            GraphConv(num_hidden, num_hidden, activation=activation))\n",
    "\n",
    "        # hidden layers\n",
    "        for i in range(num_layers - 1):\n",
    "            self.layers.append(\n",
    "                GraphConv(num_hidden, num_hidden, activation=activation))\n",
    "\n",
    "        # output layer\n",
    "        self.layers.append(GraphConv(num_hidden, num_classes))\n",
    "        self.dropout = nn.Dropout(p=dropout)\n",
    "\n",
    "    def forward(self, features_list):\n",
    "        h = []\n",
    "        \n",
    "        e_feature = features_list[0].unsqueeze(1)\n",
    "        e_feature = self.e_conv(e_feature).reshape((-1, 625))\n",
    "        \n",
    "        m_feature = features_list[1]\n",
    "        \n",
    "        features_list = [e_feature, m_feature]\n",
    "        \n",
    "        for fc, feature in zip(self.fc_list, features_list):\n",
    "            h.append(fc(feature))\n",
    "        h = torch.cat(h, 0)\n",
    "        for i, layer in enumerate(self.layers):\n",
    "            h = self.dropout(h)\n",
    "            h = layer(self.g, h)\n",
    "        return h"
   ]
  },
  {
   "cell_type": "code",
   "execution_count": null,
   "metadata": {},
   "outputs": [],
   "source": [
    "# Build graph\n",
    "g = dgl.from_scipy(adjM+(adjM.T))\n",
    "g = dgl.remove_self_loop(g)\n",
    "g = dgl.add_self_loop(g)\n",
    "g = g.to(device)"
   ]
  },
  {
   "cell_type": "code",
   "execution_count": 97,
   "metadata": {},
   "outputs": [
    {
     "ename": "TypeError",
     "evalue": "__init__() missing 8 required positional arguments: 'g', 'm_dim', 'in_dims', 'num_hidden', 'num_classes', 'num_layers', 'activation', and 'dropout'",
     "output_type": "error",
     "traceback": [
      "\u001b[0;31m---------------------------------------------------------------------------\u001b[0m",
      "\u001b[0;31mTypeError\u001b[0m                                 Traceback (most recent call last)",
      "\u001b[1;32m/Users/brucez/Desktop/Brucez/DKU/DKU_research/AlphaFold-Research/gnn/utils/load_data.ipynb Cell 19'\u001b[0m in \u001b[0;36m<cell line: 1>\u001b[0;34m()\u001b[0m\n\u001b[0;32m----> <a href='vscode-notebook-cell:/Users/brucez/Desktop/Brucez/DKU/DKU_research/AlphaFold-Research/gnn/utils/load_data.ipynb#ch0000020?line=0'>1</a>\u001b[0m net \u001b[39m=\u001b[39m GCN()\n\u001b[1;32m      <a href='vscode-notebook-cell:/Users/brucez/Desktop/Brucez/DKU/DKU_research/AlphaFold-Research/gnn/utils/load_data.ipynb#ch0000020?line=1'>2</a>\u001b[0m net\n",
      "\u001b[0;31mTypeError\u001b[0m: __init__() missing 8 required positional arguments: 'g', 'm_dim', 'in_dims', 'num_hidden', 'num_classes', 'num_layers', 'activation', and 'dropout'"
     ]
    }
   ],
   "source": [
    "net = GCN()\n",
    "net"
   ]
  },
  {
   "cell_type": "code",
   "execution_count": 95,
   "metadata": {},
   "outputs": [
    {
     "data": {
      "text/plain": [
       "torch.Size([616, 129])"
      ]
     },
     "execution_count": 95,
     "metadata": {},
     "output_type": "execute_result"
    }
   ],
   "source": [
    "features_list[1].shape"
   ]
  },
  {
   "cell_type": "code",
   "execution_count": 92,
   "metadata": {},
   "outputs": [],
   "source": [
    "result = net(features_list)"
   ]
  },
  {
   "cell_type": "code",
   "execution_count": 93,
   "metadata": {},
   "outputs": [
    {
     "data": {
      "text/plain": [
       "torch.Size([384, 625])"
      ]
     },
     "execution_count": 93,
     "metadata": {},
     "output_type": "execute_result"
    }
   ],
   "source": [
    "result.shape"
   ]
  },
  {
   "cell_type": "code",
   "execution_count": 85,
   "metadata": {},
   "outputs": [
    {
     "data": {
      "text/plain": [
       "tensor([[[-3.6409e-01, -1.0104e-01,  5.0937e+00,  5.7468e+00,  4.5925e+00,\n",
       "          -3.1782e-01, -2.5275e-01,  1.0278e+01,  2.2031e-02,  2.2031e-02,\n",
       "           2.2031e-02,  2.2031e-02,  2.2031e-02,  2.2031e-02,  2.2031e-02,\n",
       "           2.2031e-02,  2.2031e-02,  2.2031e-02,  2.2031e-02,  2.2031e-02,\n",
       "           2.2031e-02,  2.2031e-02,  2.2031e-02,  2.2031e-02,  2.2031e-02],\n",
       "         [-3.3018e-01,  3.4949e+00,  7.1700e-02, -2.6454e-01, -5.7530e-01,\n",
       "           4.0810e-01, -3.0830e-01,  1.1299e-01,  2.2031e-02,  2.2031e-02,\n",
       "           2.2031e-02,  2.2031e-02,  2.2031e-02,  2.2031e-02,  2.2031e-02,\n",
       "           2.2031e-02,  2.2031e-02,  2.2031e-02,  2.2031e-02,  2.2031e-02,\n",
       "           2.2031e-02,  2.2031e-02,  2.2031e-02,  2.2031e-02,  2.2031e-02],\n",
       "         [ 1.6297e+00,  9.3666e-01, -4.9199e-01, -4.0784e-01,  2.1619e+00,\n",
       "           1.5165e+00,  3.9424e+00, -7.8235e-03,  2.2031e-02,  2.2031e-02,\n",
       "           2.2031e-02,  2.2031e-02,  2.2031e-02,  2.2031e-02,  2.2031e-02,\n",
       "           2.2031e-02,  2.2031e-02,  2.2031e-02,  2.2031e-02,  2.2031e-02,\n",
       "           2.2031e-02,  2.2031e-02,  2.2031e-02,  2.2031e-02,  2.2031e-02],\n",
       "         [ 1.5469e+00, -6.4110e-01,  2.8320e+00,  1.2286e+00,  3.4340e-01,\n",
       "          -5.2043e-02, -4.5502e-01, -1.4692e-01,  2.2031e-02,  2.2031e-02,\n",
       "           2.2031e-02,  2.2031e-02,  2.2031e-02,  2.2031e-02,  2.2031e-02,\n",
       "           2.2031e-02,  2.2031e-02,  2.2031e-02,  2.2031e-02,  2.2031e-02,\n",
       "           2.2031e-02,  2.2031e-02,  2.2031e-02,  2.2031e-02,  2.2031e-02],\n",
       "         [-2.6159e-01, -6.8124e-01,  3.4423e-01,  4.4847e+00,  2.1434e-01,\n",
       "          -2.3859e-01, -1.0144e-01, -4.8815e-02,  2.2031e-02,  2.2031e-02,\n",
       "           2.2031e-02,  2.2031e-02,  2.2031e-02,  2.2031e-02,  2.2031e-02,\n",
       "           2.2031e-02,  2.2031e-02,  2.2031e-02,  2.2031e-02,  2.2031e-02,\n",
       "           2.2031e-02,  2.2031e-02,  2.2031e-02,  2.2031e-02,  2.2031e-02],\n",
       "         [ 4.8047e+00,  4.0554e+00, -1.2503e-01, -4.2606e-02,  1.0523e+00,\n",
       "          -4.6737e-01,  2.3724e+00, -1.2299e+00,  2.2031e-02,  2.2031e-02,\n",
       "           2.2031e-02,  2.2031e-02,  2.2031e-02,  2.2031e-02,  2.2031e-02,\n",
       "           2.2031e-02,  2.2031e-02,  2.2031e-02,  2.2031e-02,  2.2031e-02,\n",
       "           2.2031e-02,  2.2031e-02,  2.2031e-02,  2.2031e-02,  2.2031e-02],\n",
       "         [-3.9792e-01,  1.0261e+00, -2.0805e-01, -6.3193e-01, -2.4907e-02,\n",
       "           2.6346e+00, -1.3919e-01,  4.2807e+00,  2.2031e-02,  2.2031e-02,\n",
       "           2.2031e-02,  2.2031e-02,  2.2031e-02,  2.2031e-02,  2.2031e-02,\n",
       "           2.2031e-02,  2.2031e-02,  2.2031e-02,  2.2031e-02,  2.2031e-02,\n",
       "           2.2031e-02,  2.2031e-02,  2.2031e-02,  2.2031e-02,  2.2031e-02],\n",
       "         [ 6.6489e+00,  6.8329e-02,  2.6850e+00, -1.7883e-01, -1.8757e-02,\n",
       "           1.2224e+00,  1.1000e+00, -1.7763e-01,  2.2031e-02,  2.2031e-02,\n",
       "           2.2031e-02,  2.2031e-02,  2.2031e-02,  2.2031e-02,  2.2031e-02,\n",
       "           2.2031e-02,  2.2031e-02,  2.2031e-02,  2.2031e-02,  2.2031e-02,\n",
       "           2.2031e-02,  2.2031e-02,  2.2031e-02,  2.2031e-02,  2.2031e-02],\n",
       "         [ 2.2031e-02,  2.2031e-02,  2.2031e-02,  2.2031e-02,  2.2031e-02,\n",
       "           2.2031e-02,  2.2031e-02,  2.2031e-02,  2.2031e-02,  2.2031e-02,\n",
       "           2.2031e-02,  2.2031e-02,  2.2031e-02,  2.2031e-02,  2.2031e-02,\n",
       "           2.2031e-02,  2.2031e-02,  2.2031e-02,  2.2031e-02,  2.2031e-02,\n",
       "           2.2031e-02,  2.2031e-02,  2.2031e-02,  2.2031e-02,  2.2031e-02],\n",
       "         [ 2.2031e-02,  2.2031e-02,  2.2031e-02,  2.2031e-02,  2.2031e-02,\n",
       "           2.2031e-02,  2.2031e-02,  2.2031e-02,  2.2031e-02,  2.2031e-02,\n",
       "           2.2031e-02,  2.2031e-02,  2.2031e-02,  2.2031e-02,  2.2031e-02,\n",
       "           2.2031e-02,  2.2031e-02,  2.2031e-02,  2.2031e-02,  2.2031e-02,\n",
       "           2.2031e-02,  2.2031e-02,  2.2031e-02,  2.2031e-02,  2.2031e-02],\n",
       "         [ 2.2031e-02,  2.2031e-02,  2.2031e-02,  2.2031e-02,  2.2031e-02,\n",
       "           2.2031e-02,  2.2031e-02,  2.2031e-02,  2.2031e-02,  2.2031e-02,\n",
       "           2.2031e-02,  2.2031e-02,  2.2031e-02,  2.2031e-02,  2.2031e-02,\n",
       "           2.2031e-02,  2.2031e-02,  2.2031e-02,  2.2031e-02,  2.2031e-02,\n",
       "           2.2031e-02,  2.2031e-02,  2.2031e-02,  2.2031e-02,  2.2031e-02],\n",
       "         [ 2.2031e-02,  2.2031e-02,  2.2031e-02,  2.2031e-02,  2.2031e-02,\n",
       "           2.2031e-02,  2.2031e-02,  2.2031e-02,  2.2031e-02,  2.2031e-02,\n",
       "           2.2031e-02,  2.2031e-02,  2.2031e-02,  2.2031e-02,  2.2031e-02,\n",
       "           2.2031e-02,  2.2031e-02,  2.2031e-02,  2.2031e-02,  2.2031e-02,\n",
       "           2.2031e-02,  2.2031e-02,  2.2031e-02,  2.2031e-02,  2.2031e-02],\n",
       "         [ 2.2031e-02,  2.2031e-02,  2.2031e-02,  2.2031e-02,  2.2031e-02,\n",
       "           2.2031e-02,  2.2031e-02,  2.2031e-02,  2.2031e-02,  2.2031e-02,\n",
       "           2.2031e-02,  2.2031e-02,  2.2031e-02,  2.2031e-02,  2.2031e-02,\n",
       "           2.2031e-02,  2.2031e-02,  2.2031e-02,  2.2031e-02,  2.2031e-02,\n",
       "           2.2031e-02,  2.2031e-02,  2.2031e-02,  2.2031e-02,  2.2031e-02],\n",
       "         [ 2.2031e-02,  2.2031e-02,  2.2031e-02,  2.2031e-02,  2.2031e-02,\n",
       "           2.2031e-02,  2.2031e-02,  2.2031e-02,  2.2031e-02,  2.2031e-02,\n",
       "           2.2031e-02,  2.2031e-02,  2.2031e-02,  2.2031e-02,  2.2031e-02,\n",
       "           2.2031e-02,  2.2031e-02,  2.2031e-02,  2.2031e-02,  2.2031e-02,\n",
       "           2.2031e-02,  2.2031e-02,  2.2031e-02,  2.2031e-02,  2.2031e-02],\n",
       "         [ 2.2031e-02,  2.2031e-02,  2.2031e-02,  2.2031e-02,  2.2031e-02,\n",
       "           2.2031e-02,  2.2031e-02,  2.2031e-02,  2.2031e-02,  2.2031e-02,\n",
       "           2.2031e-02,  2.2031e-02,  2.2031e-02,  2.2031e-02,  2.2031e-02,\n",
       "           2.2031e-02,  2.2031e-02,  2.2031e-02,  2.2031e-02,  2.2031e-02,\n",
       "           2.2031e-02,  2.2031e-02,  2.2031e-02,  2.2031e-02,  2.2031e-02],\n",
       "         [ 2.2031e-02,  2.2031e-02,  2.2031e-02,  2.2031e-02,  2.2031e-02,\n",
       "           2.2031e-02,  2.2031e-02,  2.2031e-02,  2.2031e-02,  2.2031e-02,\n",
       "           2.2031e-02,  2.2031e-02,  2.2031e-02,  2.2031e-02,  2.2031e-02,\n",
       "           2.2031e-02,  2.2031e-02,  2.2031e-02,  2.2031e-02,  2.2031e-02,\n",
       "           2.2031e-02,  2.2031e-02,  2.2031e-02,  2.2031e-02,  2.2031e-02],\n",
       "         [ 2.2031e-02,  2.2031e-02,  2.2031e-02,  2.2031e-02,  2.2031e-02,\n",
       "           2.2031e-02,  2.2031e-02,  2.2031e-02,  2.2031e-02,  2.2031e-02,\n",
       "           2.2031e-02,  2.2031e-02,  2.2031e-02,  2.2031e-02,  2.2031e-02,\n",
       "           2.2031e-02,  2.2031e-02,  2.2031e-02,  2.2031e-02,  2.2031e-02,\n",
       "           2.2031e-02,  2.2031e-02,  2.2031e-02,  2.2031e-02,  2.2031e-02],\n",
       "         [ 2.2031e-02,  2.2031e-02,  2.2031e-02,  2.2031e-02,  2.2031e-02,\n",
       "           2.2031e-02,  2.2031e-02,  2.2031e-02,  2.2031e-02,  2.2031e-02,\n",
       "           2.2031e-02,  2.2031e-02,  2.2031e-02,  2.2031e-02,  2.2031e-02,\n",
       "           2.2031e-02,  2.2031e-02,  2.2031e-02,  2.2031e-02,  2.2031e-02,\n",
       "           2.2031e-02,  2.2031e-02,  2.2031e-02,  2.2031e-02,  2.2031e-02],\n",
       "         [ 2.2031e-02,  2.2031e-02,  2.2031e-02,  2.2031e-02,  2.2031e-02,\n",
       "           2.2031e-02,  2.2031e-02,  2.2031e-02,  2.2031e-02,  2.2031e-02,\n",
       "           2.2031e-02,  2.2031e-02,  2.2031e-02,  2.2031e-02,  2.2031e-02,\n",
       "           2.2031e-02,  2.2031e-02,  2.2031e-02,  2.2031e-02,  2.2031e-02,\n",
       "           2.2031e-02,  2.2031e-02,  2.2031e-02,  2.2031e-02,  2.2031e-02],\n",
       "         [ 2.2031e-02,  2.2031e-02,  2.2031e-02,  2.2031e-02,  2.2031e-02,\n",
       "           2.2031e-02,  2.2031e-02,  2.2031e-02,  2.2031e-02,  2.2031e-02,\n",
       "           2.2031e-02,  2.2031e-02,  2.2031e-02,  2.2031e-02,  2.2031e-02,\n",
       "           2.2031e-02,  2.2031e-02,  2.2031e-02,  2.2031e-02,  2.2031e-02,\n",
       "           2.2031e-02,  2.2031e-02,  2.2031e-02,  2.2031e-02,  2.2031e-02],\n",
       "         [ 2.2031e-02,  2.2031e-02,  2.2031e-02,  2.2031e-02,  2.2031e-02,\n",
       "           2.2031e-02,  2.2031e-02,  2.2031e-02,  2.2031e-02,  2.2031e-02,\n",
       "           2.2031e-02,  2.2031e-02,  2.2031e-02,  2.2031e-02,  2.2031e-02,\n",
       "           2.2031e-02,  2.2031e-02,  2.2031e-02,  2.2031e-02,  2.2031e-02,\n",
       "           2.2031e-02,  2.2031e-02,  2.2031e-02,  2.2031e-02,  2.2031e-02],\n",
       "         [ 2.2031e-02,  2.2031e-02,  2.2031e-02,  2.2031e-02,  2.2031e-02,\n",
       "           2.2031e-02,  2.2031e-02,  2.2031e-02,  2.2031e-02,  2.2031e-02,\n",
       "           2.2031e-02,  2.2031e-02,  2.2031e-02,  2.2031e-02,  2.2031e-02,\n",
       "           2.2031e-02,  2.2031e-02,  2.2031e-02,  2.2031e-02,  2.2031e-02,\n",
       "           2.2031e-02,  2.2031e-02,  2.2031e-02,  2.2031e-02,  2.2031e-02],\n",
       "         [ 2.2031e-02,  2.2031e-02,  2.2031e-02,  2.2031e-02,  2.2031e-02,\n",
       "           2.2031e-02,  2.2031e-02,  2.2031e-02,  2.2031e-02,  2.2031e-02,\n",
       "           2.2031e-02,  2.2031e-02,  2.2031e-02,  2.2031e-02,  2.2031e-02,\n",
       "           2.2031e-02,  2.2031e-02,  2.2031e-02,  2.2031e-02,  2.2031e-02,\n",
       "           2.2031e-02,  2.2031e-02,  2.2031e-02,  2.2031e-02,  2.2031e-02],\n",
       "         [ 2.2031e-02,  2.2031e-02,  2.2031e-02,  2.2031e-02,  2.2031e-02,\n",
       "           2.2031e-02,  2.2031e-02,  2.2031e-02,  2.2031e-02,  2.2031e-02,\n",
       "           2.2031e-02,  2.2031e-02,  2.2031e-02,  2.2031e-02,  2.2031e-02,\n",
       "           2.2031e-02,  2.2031e-02,  2.2031e-02,  2.2031e-02,  2.2031e-02,\n",
       "           2.2031e-02,  2.2031e-02,  2.2031e-02,  2.2031e-02,  2.2031e-02],\n",
       "         [ 2.2031e-02,  2.2031e-02,  2.2031e-02,  2.2031e-02,  2.2031e-02,\n",
       "           2.2031e-02,  2.2031e-02,  2.2031e-02,  2.2031e-02,  2.2031e-02,\n",
       "           2.2031e-02,  2.2031e-02,  2.2031e-02,  2.2031e-02,  2.2031e-02,\n",
       "           2.2031e-02,  2.2031e-02,  2.2031e-02,  2.2031e-02,  2.2031e-02,\n",
       "           2.2031e-02,  2.2031e-02,  2.2031e-02,  2.2031e-02,  2.2031e-02]]],\n",
       "       grad_fn=<SelectBackward0>)"
      ]
     },
     "execution_count": 85,
     "metadata": {},
     "output_type": "execute_result"
    }
   ],
   "source": [
    "result[0]"
   ]
  },
  {
   "cell_type": "code",
   "execution_count": 89,
   "metadata": {},
   "outputs": [
    {
     "data": {
      "text/plain": [
       "tensor([-3.6409e-01, -1.0104e-01,  5.0937e+00,  5.7468e+00,  4.5925e+00,\n",
       "        -3.1782e-01, -2.5275e-01,  1.0278e+01,  2.2031e-02,  2.2031e-02,\n",
       "         2.2031e-02,  2.2031e-02,  2.2031e-02,  2.2031e-02,  2.2031e-02,\n",
       "         2.2031e-02,  2.2031e-02,  2.2031e-02,  2.2031e-02,  2.2031e-02,\n",
       "         2.2031e-02,  2.2031e-02,  2.2031e-02,  2.2031e-02,  2.2031e-02,\n",
       "        -3.3018e-01,  3.4949e+00,  7.1700e-02, -2.6454e-01, -5.7530e-01,\n",
       "         4.0810e-01, -3.0830e-01,  1.1299e-01,  2.2031e-02,  2.2031e-02,\n",
       "         2.2031e-02,  2.2031e-02,  2.2031e-02,  2.2031e-02,  2.2031e-02,\n",
       "         2.2031e-02,  2.2031e-02,  2.2031e-02,  2.2031e-02,  2.2031e-02,\n",
       "         2.2031e-02,  2.2031e-02,  2.2031e-02,  2.2031e-02,  2.2031e-02,\n",
       "         1.6297e+00,  9.3666e-01, -4.9199e-01, -4.0784e-01,  2.1619e+00,\n",
       "         1.5165e+00,  3.9424e+00, -7.8235e-03,  2.2031e-02,  2.2031e-02,\n",
       "         2.2031e-02,  2.2031e-02,  2.2031e-02,  2.2031e-02,  2.2031e-02,\n",
       "         2.2031e-02,  2.2031e-02,  2.2031e-02,  2.2031e-02,  2.2031e-02,\n",
       "         2.2031e-02,  2.2031e-02,  2.2031e-02,  2.2031e-02,  2.2031e-02,\n",
       "         1.5469e+00, -6.4110e-01,  2.8320e+00,  1.2286e+00,  3.4340e-01,\n",
       "        -5.2043e-02, -4.5502e-01, -1.4692e-01,  2.2031e-02,  2.2031e-02,\n",
       "         2.2031e-02,  2.2031e-02,  2.2031e-02,  2.2031e-02,  2.2031e-02,\n",
       "         2.2031e-02,  2.2031e-02,  2.2031e-02,  2.2031e-02,  2.2031e-02,\n",
       "         2.2031e-02,  2.2031e-02,  2.2031e-02,  2.2031e-02,  2.2031e-02,\n",
       "        -2.6159e-01, -6.8124e-01,  3.4423e-01,  4.4847e+00,  2.1434e-01,\n",
       "        -2.3859e-01, -1.0144e-01, -4.8815e-02,  2.2031e-02,  2.2031e-02,\n",
       "         2.2031e-02,  2.2031e-02,  2.2031e-02,  2.2031e-02,  2.2031e-02,\n",
       "         2.2031e-02,  2.2031e-02,  2.2031e-02,  2.2031e-02,  2.2031e-02,\n",
       "         2.2031e-02,  2.2031e-02,  2.2031e-02,  2.2031e-02,  2.2031e-02,\n",
       "         4.8047e+00,  4.0554e+00, -1.2503e-01, -4.2606e-02,  1.0523e+00,\n",
       "        -4.6737e-01,  2.3724e+00, -1.2299e+00,  2.2031e-02,  2.2031e-02,\n",
       "         2.2031e-02,  2.2031e-02,  2.2031e-02,  2.2031e-02,  2.2031e-02,\n",
       "         2.2031e-02,  2.2031e-02,  2.2031e-02,  2.2031e-02,  2.2031e-02,\n",
       "         2.2031e-02,  2.2031e-02,  2.2031e-02,  2.2031e-02,  2.2031e-02,\n",
       "        -3.9792e-01,  1.0261e+00, -2.0805e-01, -6.3193e-01, -2.4907e-02,\n",
       "         2.6346e+00, -1.3919e-01,  4.2807e+00,  2.2031e-02,  2.2031e-02,\n",
       "         2.2031e-02,  2.2031e-02,  2.2031e-02,  2.2031e-02,  2.2031e-02,\n",
       "         2.2031e-02,  2.2031e-02,  2.2031e-02,  2.2031e-02,  2.2031e-02,\n",
       "         2.2031e-02,  2.2031e-02,  2.2031e-02,  2.2031e-02,  2.2031e-02,\n",
       "         6.6489e+00,  6.8329e-02,  2.6850e+00, -1.7883e-01, -1.8757e-02,\n",
       "         1.2224e+00,  1.1000e+00, -1.7763e-01,  2.2031e-02,  2.2031e-02,\n",
       "         2.2031e-02,  2.2031e-02,  2.2031e-02,  2.2031e-02,  2.2031e-02,\n",
       "         2.2031e-02,  2.2031e-02,  2.2031e-02,  2.2031e-02,  2.2031e-02,\n",
       "         2.2031e-02,  2.2031e-02,  2.2031e-02,  2.2031e-02,  2.2031e-02,\n",
       "         2.2031e-02,  2.2031e-02,  2.2031e-02,  2.2031e-02,  2.2031e-02,\n",
       "         2.2031e-02,  2.2031e-02,  2.2031e-02,  2.2031e-02,  2.2031e-02,\n",
       "         2.2031e-02,  2.2031e-02,  2.2031e-02,  2.2031e-02,  2.2031e-02,\n",
       "         2.2031e-02,  2.2031e-02,  2.2031e-02,  2.2031e-02,  2.2031e-02,\n",
       "         2.2031e-02,  2.2031e-02,  2.2031e-02,  2.2031e-02,  2.2031e-02,\n",
       "         2.2031e-02,  2.2031e-02,  2.2031e-02,  2.2031e-02,  2.2031e-02,\n",
       "         2.2031e-02,  2.2031e-02,  2.2031e-02,  2.2031e-02,  2.2031e-02,\n",
       "         2.2031e-02,  2.2031e-02,  2.2031e-02,  2.2031e-02,  2.2031e-02,\n",
       "         2.2031e-02,  2.2031e-02,  2.2031e-02,  2.2031e-02,  2.2031e-02,\n",
       "         2.2031e-02,  2.2031e-02,  2.2031e-02,  2.2031e-02,  2.2031e-02,\n",
       "         2.2031e-02,  2.2031e-02,  2.2031e-02,  2.2031e-02,  2.2031e-02,\n",
       "         2.2031e-02,  2.2031e-02,  2.2031e-02,  2.2031e-02,  2.2031e-02,\n",
       "         2.2031e-02,  2.2031e-02,  2.2031e-02,  2.2031e-02,  2.2031e-02,\n",
       "         2.2031e-02,  2.2031e-02,  2.2031e-02,  2.2031e-02,  2.2031e-02,\n",
       "         2.2031e-02,  2.2031e-02,  2.2031e-02,  2.2031e-02,  2.2031e-02,\n",
       "         2.2031e-02,  2.2031e-02,  2.2031e-02,  2.2031e-02,  2.2031e-02,\n",
       "         2.2031e-02,  2.2031e-02,  2.2031e-02,  2.2031e-02,  2.2031e-02,\n",
       "         2.2031e-02,  2.2031e-02,  2.2031e-02,  2.2031e-02,  2.2031e-02,\n",
       "         2.2031e-02,  2.2031e-02,  2.2031e-02,  2.2031e-02,  2.2031e-02,\n",
       "         2.2031e-02,  2.2031e-02,  2.2031e-02,  2.2031e-02,  2.2031e-02,\n",
       "         2.2031e-02,  2.2031e-02,  2.2031e-02,  2.2031e-02,  2.2031e-02,\n",
       "         2.2031e-02,  2.2031e-02,  2.2031e-02,  2.2031e-02,  2.2031e-02,\n",
       "         2.2031e-02,  2.2031e-02,  2.2031e-02,  2.2031e-02,  2.2031e-02,\n",
       "         2.2031e-02,  2.2031e-02,  2.2031e-02,  2.2031e-02,  2.2031e-02,\n",
       "         2.2031e-02,  2.2031e-02,  2.2031e-02,  2.2031e-02,  2.2031e-02,\n",
       "         2.2031e-02,  2.2031e-02,  2.2031e-02,  2.2031e-02,  2.2031e-02,\n",
       "         2.2031e-02,  2.2031e-02,  2.2031e-02,  2.2031e-02,  2.2031e-02,\n",
       "         2.2031e-02,  2.2031e-02,  2.2031e-02,  2.2031e-02,  2.2031e-02,\n",
       "         2.2031e-02,  2.2031e-02,  2.2031e-02,  2.2031e-02,  2.2031e-02,\n",
       "         2.2031e-02,  2.2031e-02,  2.2031e-02,  2.2031e-02,  2.2031e-02,\n",
       "         2.2031e-02,  2.2031e-02,  2.2031e-02,  2.2031e-02,  2.2031e-02,\n",
       "         2.2031e-02,  2.2031e-02,  2.2031e-02,  2.2031e-02,  2.2031e-02,\n",
       "         2.2031e-02,  2.2031e-02,  2.2031e-02,  2.2031e-02,  2.2031e-02,\n",
       "         2.2031e-02,  2.2031e-02,  2.2031e-02,  2.2031e-02,  2.2031e-02,\n",
       "         2.2031e-02,  2.2031e-02,  2.2031e-02,  2.2031e-02,  2.2031e-02,\n",
       "         2.2031e-02,  2.2031e-02,  2.2031e-02,  2.2031e-02,  2.2031e-02,\n",
       "         2.2031e-02,  2.2031e-02,  2.2031e-02,  2.2031e-02,  2.2031e-02,\n",
       "         2.2031e-02,  2.2031e-02,  2.2031e-02,  2.2031e-02,  2.2031e-02,\n",
       "         2.2031e-02,  2.2031e-02,  2.2031e-02,  2.2031e-02,  2.2031e-02,\n",
       "         2.2031e-02,  2.2031e-02,  2.2031e-02,  2.2031e-02,  2.2031e-02,\n",
       "         2.2031e-02,  2.2031e-02,  2.2031e-02,  2.2031e-02,  2.2031e-02,\n",
       "         2.2031e-02,  2.2031e-02,  2.2031e-02,  2.2031e-02,  2.2031e-02,\n",
       "         2.2031e-02,  2.2031e-02,  2.2031e-02,  2.2031e-02,  2.2031e-02,\n",
       "         2.2031e-02,  2.2031e-02,  2.2031e-02,  2.2031e-02,  2.2031e-02,\n",
       "         2.2031e-02,  2.2031e-02,  2.2031e-02,  2.2031e-02,  2.2031e-02,\n",
       "         2.2031e-02,  2.2031e-02,  2.2031e-02,  2.2031e-02,  2.2031e-02,\n",
       "         2.2031e-02,  2.2031e-02,  2.2031e-02,  2.2031e-02,  2.2031e-02,\n",
       "         2.2031e-02,  2.2031e-02,  2.2031e-02,  2.2031e-02,  2.2031e-02,\n",
       "         2.2031e-02,  2.2031e-02,  2.2031e-02,  2.2031e-02,  2.2031e-02,\n",
       "         2.2031e-02,  2.2031e-02,  2.2031e-02,  2.2031e-02,  2.2031e-02,\n",
       "         2.2031e-02,  2.2031e-02,  2.2031e-02,  2.2031e-02,  2.2031e-02,\n",
       "         2.2031e-02,  2.2031e-02,  2.2031e-02,  2.2031e-02,  2.2031e-02,\n",
       "         2.2031e-02,  2.2031e-02,  2.2031e-02,  2.2031e-02,  2.2031e-02,\n",
       "         2.2031e-02,  2.2031e-02,  2.2031e-02,  2.2031e-02,  2.2031e-02,\n",
       "         2.2031e-02,  2.2031e-02,  2.2031e-02,  2.2031e-02,  2.2031e-02,\n",
       "         2.2031e-02,  2.2031e-02,  2.2031e-02,  2.2031e-02,  2.2031e-02,\n",
       "         2.2031e-02,  2.2031e-02,  2.2031e-02,  2.2031e-02,  2.2031e-02,\n",
       "         2.2031e-02,  2.2031e-02,  2.2031e-02,  2.2031e-02,  2.2031e-02,\n",
       "         2.2031e-02,  2.2031e-02,  2.2031e-02,  2.2031e-02,  2.2031e-02,\n",
       "         2.2031e-02,  2.2031e-02,  2.2031e-02,  2.2031e-02,  2.2031e-02,\n",
       "         2.2031e-02,  2.2031e-02,  2.2031e-02,  2.2031e-02,  2.2031e-02,\n",
       "         2.2031e-02,  2.2031e-02,  2.2031e-02,  2.2031e-02,  2.2031e-02,\n",
       "         2.2031e-02,  2.2031e-02,  2.2031e-02,  2.2031e-02,  2.2031e-02,\n",
       "         2.2031e-02,  2.2031e-02,  2.2031e-02,  2.2031e-02,  2.2031e-02,\n",
       "         2.2031e-02,  2.2031e-02,  2.2031e-02,  2.2031e-02,  2.2031e-02,\n",
       "         2.2031e-02,  2.2031e-02,  2.2031e-02,  2.2031e-02,  2.2031e-02,\n",
       "         2.2031e-02,  2.2031e-02,  2.2031e-02,  2.2031e-02,  2.2031e-02,\n",
       "         2.2031e-02,  2.2031e-02,  2.2031e-02,  2.2031e-02,  2.2031e-02,\n",
       "         2.2031e-02,  2.2031e-02,  2.2031e-02,  2.2031e-02,  2.2031e-02,\n",
       "         2.2031e-02,  2.2031e-02,  2.2031e-02,  2.2031e-02,  2.2031e-02,\n",
       "         2.2031e-02,  2.2031e-02,  2.2031e-02,  2.2031e-02,  2.2031e-02,\n",
       "         2.2031e-02,  2.2031e-02,  2.2031e-02,  2.2031e-02,  2.2031e-02,\n",
       "         2.2031e-02,  2.2031e-02,  2.2031e-02,  2.2031e-02,  2.2031e-02,\n",
       "         2.2031e-02,  2.2031e-02,  2.2031e-02,  2.2031e-02,  2.2031e-02,\n",
       "         2.2031e-02,  2.2031e-02,  2.2031e-02,  2.2031e-02,  2.2031e-02,\n",
       "         2.2031e-02,  2.2031e-02,  2.2031e-02,  2.2031e-02,  2.2031e-02,\n",
       "         2.2031e-02,  2.2031e-02,  2.2031e-02,  2.2031e-02,  2.2031e-02,\n",
       "         2.2031e-02,  2.2031e-02,  2.2031e-02,  2.2031e-02,  2.2031e-02,\n",
       "         2.2031e-02,  2.2031e-02,  2.2031e-02,  2.2031e-02,  2.2031e-02,\n",
       "         2.2031e-02,  2.2031e-02,  2.2031e-02,  2.2031e-02,  2.2031e-02,\n",
       "         2.2031e-02,  2.2031e-02,  2.2031e-02,  2.2031e-02,  2.2031e-02,\n",
       "         2.2031e-02,  2.2031e-02,  2.2031e-02,  2.2031e-02,  2.2031e-02,\n",
       "         2.2031e-02,  2.2031e-02,  2.2031e-02,  2.2031e-02,  2.2031e-02,\n",
       "         2.2031e-02,  2.2031e-02,  2.2031e-02,  2.2031e-02,  2.2031e-02,\n",
       "         2.2031e-02,  2.2031e-02,  2.2031e-02,  2.2031e-02,  2.2031e-02],\n",
       "       grad_fn=<SelectBackward0>)"
      ]
     },
     "execution_count": 89,
     "metadata": {},
     "output_type": "execute_result"
    }
   ],
   "source": [
    "r = result.reshape((-1, 625))\n",
    "r[0]"
   ]
  },
  {
   "cell_type": "code",
   "execution_count": 54,
   "metadata": {},
   "outputs": [
    {
     "data": {
      "text/plain": [
       "torch.Size([384, 1600, 1600])"
      ]
     },
     "execution_count": 54,
     "metadata": {},
     "output_type": "execute_result"
    }
   ],
   "source": [
    "features_list[0].shape"
   ]
  },
  {
   "cell_type": "code",
   "execution_count": 56,
   "metadata": {},
   "outputs": [
    {
     "data": {
      "text/plain": [
       "torch.Size([1, 384, 1600, 1600])"
      ]
     },
     "execution_count": 56,
     "metadata": {},
     "output_type": "execute_result"
    }
   ],
   "source": [
    "features_list[0].unsqueeze(0).shape"
   ]
  }
 ],
 "metadata": {
  "interpreter": {
   "hash": "182549613727cf12b46fcd4ad177be91d67bb597fee4891cf7931e6e0875b8f0"
  },
  "kernelspec": {
   "display_name": "Python 3.8.13 ('gnn')",
   "language": "python",
   "name": "python3"
  },
  "language_info": {
   "codemirror_mode": {
    "name": "ipython",
    "version": 3
   },
   "file_extension": ".py",
   "mimetype": "text/x-python",
   "name": "python",
   "nbconvert_exporter": "python",
   "pygments_lexer": "ipython3",
   "version": "3.8.13"
  },
  "orig_nbformat": 4
 },
 "nbformat": 4,
 "nbformat_minor": 2
}
