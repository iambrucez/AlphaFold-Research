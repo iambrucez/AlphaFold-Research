{
 "cells": [
  {
   "cell_type": "code",
   "execution_count": 1,
   "metadata": {},
   "outputs": [],
   "source": [
    "%matplotlib inline\n",
    "\n",
    "import pickle\n",
    "import pandas as pd\n",
    "import numpy as np\n",
    "\n",
    "from sklearn.preprocessing import StandardScaler\n",
    "from sklearn.decomposition import PCA\n",
    "\n",
    "import matplotlib.pyplot as plt"
   ]
  },
  {
   "cell_type": "code",
   "execution_count": 2,
   "metadata": {},
   "outputs": [
    {
     "name": "stdout",
     "output_type": "stream",
     "text": [
      "> original data keys: dict_keys(['distogram', 'experimentally_resolved', 'masked_msa', 'predicted_lddt', 'representations', 'structure_module', 'plddt'])\n",
      "> representations: dict_keys(['msa', 'msa_first_row', 'pair', 'single', 'structure_module'])\n",
      "> distogram: dict_keys(['bin_edges', 'logits'])\n"
     ]
    }
   ],
   "source": [
    "data = pickle.load(open('BSU27200.pkl', 'rb'))\n",
    "print(f'> original data keys: {data.keys()}')\n",
    "\n",
    "representations = data['representations']\n",
    "print(f'> representations: {representations.keys()}')\n",
    "\n",
    "distogram = data['distogram']\n",
    "print(f'> distogram: {distogram.keys()}')"
   ]
  },
  {
   "cell_type": "code",
   "execution_count": 3,
   "metadata": {},
   "outputs": [
    {
     "name": "stdout",
     "output_type": "stream",
     "text": [
      "single representation shape = (266, 384)\n",
      "logits distogram shape = (266, 266, 64)\n",
      "enzyme length = 266\n"
     ]
    }
   ],
   "source": [
    "single_repre = representations['single']\n",
    "print(f'single representation shape = {single_repre.shape}')\n",
    "\n",
    "logits_disto = distogram['logits']\n",
    "print(f'logits distogram shape = {logits_disto.shape}')\n",
    "\n",
    "enzyme_len = single_repre.shape[0]\n",
    "print(f'enzyme length = {enzyme_len}')"
   ]
  },
  {
   "cell_type": "code",
   "execution_count": 4,
   "metadata": {},
   "outputs": [
    {
     "data": {
      "text/plain": [
       "(70756, 64)"
      ]
     },
     "execution_count": 4,
     "metadata": {},
     "output_type": "execute_result"
    }
   ],
   "source": [
    "logits_reshaped = logits_disto.reshape(-1, 64)\n",
    "logits_reshaped.shape"
   ]
  },
  {
   "cell_type": "code",
   "execution_count": 5,
   "metadata": {},
   "outputs": [
    {
     "name": "stdout",
     "output_type": "stream",
     "text": [
      "(70756, 64)\n",
      "Variance explained by each of the 64 components: 100.00000000000004\n"
     ]
    }
   ],
   "source": [
    "# logits distogram\n",
    "\n",
    "scaler = StandardScaler()\n",
    "scaler.fit(logits_reshaped)\n",
    "logits_standard = scaler.transform(logits_reshaped)\n",
    "logits_standard.shape\n",
    "\n",
    "pca_64 = PCA(n_components=64)\n",
    "pca_64.fit(logits_standard)\n",
    "logits_PCA_64 = pca_64.transform(logits_standard)\n",
    "print(logits_PCA_64.shape)\n",
    "\n",
    "print('Variance explained by each of the 64 components: {}'.format(sum(pca_64.explained_variance_ratio_ * 100)))"
   ]
  },
  {
   "cell_type": "code",
   "execution_count": 6,
   "metadata": {},
   "outputs": [
    {
     "name": "stdout",
     "output_type": "stream",
     "text": [
      "[45.8802222  39.18622776  5.42979767  3.61668138  1.17306728  0.98287801\n",
      "  0.88600264  0.67088785  0.45758805  0.39388915]\n"
     ]
    },
    {
     "data": {
      "text/plain": [
       "Text(0, 0.5, 'Cumulative Variance (%)')"
      ]
     },
     "execution_count": 6,
     "metadata": {},
     "output_type": "execute_result"
    },
    {
     "data": {
      "image/png": "[encoded data removed]",
      "text/plain": [
       "<Figure size 432x288 with 1 Axes>"
      ]
     },
     "metadata": {
      "needs_background": "light"
     },
     "output_type": "display_data"
    }
   ],
   "source": [
    "print(pca_64.explained_variance_ratio_[:10] * 100)\n",
    "\n",
    "plt.plot(np.cumsum(pca_64.explained_variance_ratio_))\n",
    "plt.xlabel('Number of Components')\n",
    "plt.ylabel('Cumulative Variance (%)')"
   ]
  },
  {
   "cell_type": "code",
   "execution_count": 7,
   "metadata": {},
   "outputs": [
    {
     "name": "stdout",
     "output_type": "stream",
     "text": [
      "(70756, 1)\n",
      "Variance explained by each of the 1 components: 45.88090317225351\n"
     ]
    }
   ],
   "source": [
    "pca_1 = PCA(n_components=1)\n",
    "pca_1.fit(logits_standard)\n",
    "logits_PCA_1 = pca_1.transform(logits_standard)\n",
    "print(logits_PCA_1.shape)\n",
    "\n",
    "print('Variance explained by each of the 1 components: {}'.format(sum(pca_1.explained_variance_ratio_ * 100)))"
   ]
  },
  {
   "cell_type": "code",
   "execution_count": 8,
   "metadata": {},
   "outputs": [
    {
     "data": {
      "text/plain": [
       "(266, 266)"
      ]
     },
     "execution_count": 8,
     "metadata": {},
     "output_type": "execute_result"
    }
   ],
   "source": [
    "logits_after_PCA = logits_PCA_1.reshape(enzyme_len, enzyme_len)\n",
    "logits_after_PCA.shape"
   ]
  },
  {
   "cell_type": "code",
   "execution_count": 11,
   "metadata": {},
   "outputs": [
    {
     "name": "stdout",
     "output_type": "stream",
     "text": [
      "(266, 384)\n",
      "(266, 10)\n",
      "Variance explained by each of the 2 components: 55.988781690597534\n"
     ]
    }
   ],
   "source": [
    "scaler = StandardScaler()\n",
    "scaler.fit(single_repre)\n",
    "single_standard = scaler.transform(single_repre)\n",
    "print(single_standard.shape)\n",
    "\n",
    "pca_1 = PCA(n_components=10)\n",
    "pca_1.fit(single_standard)\n",
    "single_PCA_1 = pca_1.transform(single_standard)\n",
    "print(single_PCA_1.shape)\n",
    "\n",
    "print('Variance explained by each of the 2 components: {}'.format(sum(pca_1.explained_variance_ratio_ * 100)))"
   ]
  },
  {
   "cell_type": "code",
   "execution_count": 59,
   "metadata": {},
   "outputs": [
    {
     "data": {
      "text/plain": [
       "(266,)"
      ]
     },
     "execution_count": 59,
     "metadata": {},
     "output_type": "execute_result"
    }
   ],
   "source": [
    "single_after_PCA = single_PCA_1.reshape(enzyme_len)\n",
    "single_after_PCA.shape"
   ]
  },
  {
   "cell_type": "code",
   "execution_count": null,
   "metadata": {},
   "outputs": [],
   "source": []
  }
 ],
 "metadata": {
  "interpreter": {
   "hash": "182549613727cf12b46fcd4ad177be91d67bb597fee4891cf7931e6e0875b8f0"
  },
  "kernelspec": {
   "display_name": "Python 3.8.13 ('gnn')",
   "language": "python",
   "name": "python3"
  },
  "language_info": {
   "codemirror_mode": {
    "name": "ipython",
    "version": 3
   },
   "file_extension": ".py",
   "mimetype": "text/x-python",
   "name": "python",
   "nbconvert_exporter": "python",
   "pygments_lexer": "ipython3",
   "version": "3.8.13"
  },
  "orig_nbformat": 4
 },
 "nbformat": 4,
 "nbformat_minor": 2
}
